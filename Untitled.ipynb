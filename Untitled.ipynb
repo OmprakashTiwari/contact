{
 "cells": [
  {
   "cell_type": "code",
   "execution_count": null,
   "metadata": {},
   "outputs": [
    {
     "name": "stdout",
     "output_type": "stream",
     "text": [
      " * Serving Flask app \"__main__\" (lazy loading)\n",
      " * Environment: production\n",
      "   WARNING: This is a development server. Do not use it in a production deployment.\n",
      "   Use a production WSGI server instead.\n",
      " * Debug mode: off\n"
     ]
    },
    {
     "name": "stderr",
     "output_type": "stream",
     "text": [
      " * Running on http://127.0.0.1:5000/ (Press CTRL+C to quit)\n",
      "127.0.0.1 - - [20/Aug/2021 17:02:50] \"\u001b[37mGET / HTTP/1.1\u001b[0m\" 200 -\n",
      "127.0.0.1 - - [20/Aug/2021 17:03:07] \"\u001b[37mPOST /detail HTTP/1.1\u001b[0m\" 200 -\n"
     ]
    }
   ],
   "source": [
    "from flask import Flask,render_template,request\n",
    "\n",
    "app=Flask(__name__)\n",
    "\n",
    "@app.route('/')\n",
    "def first():\n",
    "    return render_template(\"dd.html\")\n",
    "\n",
    "@app.route('/detail',methods=['GET','POST'])\n",
    "def data():\n",
    "    \n",
    "    if (request.method==\"POST\"):\n",
    "        \n",
    "        x=request.form['name']\n",
    "        y=request.form['idno.']\n",
    "        z=request.form['Adharno.']\n",
    "        b=request.form['rollno.']\n",
    "        v=request.form['dob']\n",
    "        \n",
    "        #print(x,y,z,b,v)\n",
    "        xy=x+y+z+b+v\n",
    "        return render_template(\"dd.html\",You=xy)\n",
    "@app.route('/form',methods=['GET','POST'])\n",
    "def cmi():\n",
    "    \n",
    "    if (request.method='POST')\n",
    "    \n",
    "if __name__=='__main__':\n",
    "    app.run()"
   ]
  },
  {
   "cell_type": "code",
   "execution_count": null,
   "metadata": {},
   "outputs": [
    {
     "name": "stdout",
     "output_type": "stream",
     "text": [
      " * Serving Flask app \"__main__\" (lazy loading)\n",
      " * Environment: production\n",
      "   WARNING: This is a development server. Do not use it in a production deployment.\n",
      "   Use a production WSGI server instead.\n",
      " * Debug mode: off\n"
     ]
    },
    {
     "name": "stderr",
     "output_type": "stream",
     "text": [
      " * Running on http://127.0.0.1:5000/ (Press CTRL+C to quit)\n",
      "127.0.0.1 - - [24/Aug/2021 15:18:29] \"\u001b[37mGET / HTTP/1.1\u001b[0m\" 200 -\n",
      "127.0.0.1 - - [24/Aug/2021 15:19:16] \"\u001b[37mPOST /detail HTTP/1.1\u001b[0m\" 200 -\n"
     ]
    }
   ],
   "source": [
    "import smtplib\n",
    "from flask import Flask,render_template,request\n",
    "\n",
    "app=Flask(__name__)\n",
    "\n",
    "@app.route('/')\n",
    "def first():\n",
    "    return render_template(\"contact.html\")\n",
    "\n",
    "@app.route('/detail',methods=['GET','POST'])\n",
    "def data():\n",
    "    \n",
    "    if (request.method==\"POST\"):\n",
    "        \n",
    "        x=request.form['name']\n",
    "        y=request.form['ph']\n",
    "        z=request.form['Emailid']\n",
    "        v=request.form['gn']\n",
    "        w=request.form['msg']\n",
    "        \n",
    "        xyz=x+y+z+v+w\n",
    "        sub=(f\"Thank you {x} for Interest we will help you regarding this query\")\n",
    "        server=smtplib.SMTP_SSL('smtp.gmail.com',465)\n",
    "        server.login(\"omprakashec1052@gmail.com\",\"Omprakash@238\")\n",
    "        server.sendmail(\"omprakashec1052@gmail.com\", z,sub)\n",
    "        \n",
    "        return render_template(\"contact.html\",op=xyz)\n",
    "if __name__=='__main__':\n",
    "    app.run()"
   ]
  },
  {
   "cell_type": "code",
   "execution_count": null,
   "metadata": {},
   "outputs": [],
   "source": []
  },
  {
   "cell_type": "code",
   "execution_count": null,
   "metadata": {},
   "outputs": [],
   "source": []
  },
  {
   "cell_type": "code",
   "execution_count": null,
   "metadata": {},
   "outputs": [],
   "source": []
  },
  {
   "cell_type": "code",
   "execution_count": null,
   "metadata": {},
   "outputs": [],
   "source": []
  },
  {
   "cell_type": "code",
   "execution_count": null,
   "metadata": {},
   "outputs": [],
   "source": []
  },
  {
   "cell_type": "code",
   "execution_count": null,
   "metadata": {},
   "outputs": [],
   "source": []
  },
  {
   "cell_type": "code",
   "execution_count": null,
   "metadata": {},
   "outputs": [],
   "source": []
  }
 ],
 "metadata": {
  "kernelspec": {
   "display_name": "Python 3",
   "language": "python",
   "name": "python3"
  },
  "language_info": {
   "codemirror_mode": {
    "name": "ipython",
    "version": 3
   },
   "file_extension": ".py",
   "mimetype": "text/x-python",
   "name": "python",
   "nbconvert_exporter": "python",
   "pygments_lexer": "ipython3",
   "version": "3.8.5"
  }
 },
 "nbformat": 4,
 "nbformat_minor": 4
}
